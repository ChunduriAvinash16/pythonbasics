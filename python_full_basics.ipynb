{
 "cells": [
  {
   "cell_type": "markdown",
   "metadata": {},
   "source": [
    "features :\n",
    "\n",
    "  1>simple\n",
    "  2>Easy to learn\n",
    "  3>Free and open source\n",
    "  4>High level language\n",
    "  5>interactive\n",
    "  6>portable\n",
    "  7>Object oriented\n",
    "  8>interpreted\n",
    "  9>Dynamic\n",
    "  10>Robust\n",
    "  11>Easy maintenece\n",
    "  12>Secure\n",
    "  13>Multi-Thread"
   ]
  },
  {
   "cell_type": "markdown",
   "metadata": {},
   "source": [
    "# History of python\n",
    "python was developed by Guido van Rossum in the  late 80's and early 90's"
   ]
  },
  {
   "cell_type": "code",
   "execution_count": 1,
   "metadata": {},
   "outputs": [
    {
     "name": "stdout",
     "output_type": "stream",
     "text": [
      "Hello world\n"
     ]
    }
   ],
   "source": [
    "print(\"Hello world\")"
   ]
  },
  {
   "cell_type": "code",
   "execution_count": 2,
   "metadata": {},
   "outputs": [
    {
     "name": "stdout",
     "output_type": "stream",
     "text": [
      "Hello world\n"
     ]
    }
   ],
   "source": [
    "print('Hello world')"
   ]
  },
  {
   "cell_type": "code",
   "execution_count": 1,
   "metadata": {},
   "outputs": [
    {
     "name": "stdout",
     "output_type": "stream",
     "text": [
      "Hello  \n",
      " abcd world\n"
     ]
    }
   ],
   "source": [
    "print('''Hello  \n",
    " world''')"
   ]
  },
  {
   "cell_type": "code",
   "execution_count": 5,
   "metadata": {},
   "outputs": [
    {
     "name": "stdout",
     "output_type": "stream",
     "text": [
      "What's your name\n"
     ]
    }
   ],
   "source": [
    "print(\"What\\'s your name\")"
   ]
  },
  {
   "cell_type": "code",
   "execution_count": 6,
   "metadata": {},
   "outputs": [
    {
     "name": "stdout",
     "output_type": "stream",
     "text": [
      "what\\'s your name\n"
     ]
    }
   ],
   "source": [
    "print(r\"what\\'s your name\")"
   ]
  },
  {
   "cell_type": "markdown",
   "metadata": {},
   "source": [
    "# input from user"
   ]
  },
  {
   "cell_type": "code",
   "execution_count": 8,
   "metadata": {},
   "outputs": [
    {
     "name": "stdout",
     "output_type": "stream",
     "text": [
      "123\n",
      "123\n",
      "<class 'str'>\n"
     ]
    }
   ],
   "source": [
    "#in python every thing will consider as an obect \n",
    "n=input()\n",
    "print(n)\n",
    "print(type(n))"
   ]
  },
  {
   "cell_type": "code",
   "execution_count": 9,
   "metadata": {},
   "outputs": [
    {
     "name": "stdout",
     "output_type": "stream",
     "text": [
      "Hello\n",
      "None\n"
     ]
    }
   ],
   "source": [
    "n=print(\"Hello\")\n",
    "print(n)"
   ]
  },
  {
   "cell_type": "markdown",
   "metadata": {},
   "source": [
    "# data types"
   ]
  },
  {
   "cell_type": "raw",
   "metadata": {},
   "source": [
    "Text Type:\tstr\n",
    "Numeric Types:\tint, float, complex\n",
    "Sequence Types:\tlist, tuple, range\n",
    "Mapping Type:\tdict\n",
    "Set Types:\tset, frozenset\n",
    "Boolean Type:\tbool\n",
    "Binary Types:\tbytes, bytearray, memoryview"
   ]
  },
  {
   "cell_type": "code",
   "execution_count": 12,
   "metadata": {},
   "outputs": [
    {
     "name": "stdout",
     "output_type": "stream",
     "text": [
      "[1, 2, 3, 4, 56, 4]\n",
      "[4, 56, 4, 3, 2, 1]\n",
      "[1, 2, 3, 4, 4, 56]\n",
      "[56, 4, 4, 3, 2, 1]\n",
      "2\n",
      "0\n"
     ]
    }
   ],
   "source": [
    "l=[1,2,3,4,56]\n",
    "l.append(4) #adding element at end\n",
    "print(l)\n",
    "l.reverse() #reverse\n",
    "print(l)\n",
    "l.sort() #ascending\n",
    "print(l)\n",
    "l.sort(reverse=True) #descending\n",
    "print(l)\n",
    "print(l.count(4))\n",
    "print(l.index(56))"
   ]
  },
  {
   "cell_type": "code",
   "execution_count": 13,
   "metadata": {},
   "outputs": [
    {
     "name": "stdout",
     "output_type": "stream",
     "text": [
      "<class 'tuple'>\n"
     ]
    }
   ],
   "source": [
    "t=(1,2,3,4,56)\n",
    "print(type(t))"
   ]
  },
  {
   "cell_type": "code",
   "execution_count": 15,
   "metadata": {},
   "outputs": [
    {
     "name": "stdout",
     "output_type": "stream",
     "text": [
      "<class 'int'>\n",
      "<class 'str'>\n",
      "<class 'complex'>\n",
      "<class 'float'>\n",
      "<class 'bool'>\n"
     ]
    }
   ],
   "source": [
    "n=10\n",
    "name='GITAM'\n",
    "c=2+4j\n",
    "f=3.1233\n",
    "B=True\n",
    "print(type(n))\n",
    "print(type(name))\n",
    "print(type(c))\n",
    "print(type(f))\n",
    "print(type(B))"
   ]
  },
  {
   "cell_type": "markdown",
   "metadata": {},
   "source": [
    "# operations "
   ]
  },
  {
   "cell_type": "code",
   "execution_count": 27,
   "metadata": {},
   "outputs": [
    {
     "name": "stdout",
     "output_type": "stream",
     "text": [
      "a+b=8\n",
      "a-b=2\n",
      "a*b=15\n",
      "a/b=1\n"
     ]
    }
   ],
   "source": [
    "#arithmetic operations\n",
    "\n",
    "a=5\n",
    "b=3\n",
    "\n",
    "print(\"a+b=%d\"%(a+b))\n",
    "print(\"a-b=%d\"%(a-b))\n",
    "print(\"a*b=%d\"%(a*b))\n",
    "print(\"a/b=%d\"%(a/b))"
   ]
  },
  {
   "cell_type": "code",
   "execution_count": 28,
   "metadata": {},
   "outputs": [
    {
     "data": {
      "text/plain": [
       "2"
      ]
     },
     "execution_count": 28,
     "metadata": {},
     "output_type": "execute_result"
    }
   ],
   "source": [
    "a%b"
   ]
  },
  {
   "cell_type": "code",
   "execution_count": 35,
   "metadata": {},
   "outputs": [
    {
     "data": {
      "text/plain": [
       "2"
      ]
     },
     "execution_count": 35,
     "metadata": {},
     "output_type": "execute_result"
    }
   ],
   "source": [
    "#floor division\n",
    "\n",
    "12//5"
   ]
  },
  {
   "cell_type": "code",
   "execution_count": 36,
   "metadata": {},
   "outputs": [
    {
     "data": {
      "text/plain": [
       "2386420683693101056"
      ]
     },
     "execution_count": 36,
     "metadata": {},
     "output_type": "execute_result"
    }
   ],
   "source": [
    "a**b"
   ]
  },
  {
   "cell_type": "markdown",
   "metadata": {},
   "source": [
    "# multiple assignment"
   ]
  },
  {
   "cell_type": "code",
   "execution_count": 31,
   "metadata": {},
   "outputs": [
    {
     "name": "stdout",
     "output_type": "stream",
     "text": [
      "12,34,56,78\n"
     ]
    }
   ],
   "source": [
    "a,b,c,d=12,34,56,78\n",
    "print(a,b,c,d,sep=',')"
   ]
  },
  {
   "cell_type": "code",
   "execution_count": 32,
   "metadata": {},
   "outputs": [
    {
     "name": "stdout",
     "output_type": "stream",
     "text": [
      "12 34\n",
      "34 12\n"
     ]
    }
   ],
   "source": [
    "print(a,b)\n",
    "a,b=b,a\n",
    "print(a,b)"
   ]
  },
  {
   "cell_type": "code",
   "execution_count": 34,
   "metadata": {},
   "outputs": [
    {
     "name": "stdout",
     "output_type": "stream",
     "text": [
      "6\n"
     ]
    }
   ],
   "source": [
    "#addition\n",
    "'''variable \n",
    "rules\n",
    "'''\n",
    "___=2\n",
    "____=4\n",
    "print(___+____)"
   ]
  },
  {
   "cell_type": "markdown",
   "metadata": {},
   "source": [
    "# comments"
   ]
  },
  {
   "cell_type": "raw",
   "metadata": {},
   "source": [
    "#  single line comment\n",
    "''' Multi line comment  '''"
   ]
  },
  {
   "cell_type": "markdown",
   "metadata": {},
   "source": [
    "# comparision operators"
   ]
  },
  {
   "cell_type": "code",
   "execution_count": 40,
   "metadata": {},
   "outputs": [
    {
     "name": "stdout",
     "output_type": "stream",
     "text": [
      "a==b:False\n",
      "a!=b:True\n",
      "a>b:False\n",
      "a<b:True\n",
      "a>=b:False\n",
      "a<=b:True\n"
     ]
    }
   ],
   "source": [
    "a=10\n",
    "b=20\n",
    "print(\"a==b:\"+str(a==b))\n",
    "print(\"a!=b:\"+str(a!=b))\n",
    "print(\"a>b:\"+str(a>b))\n",
    "print(\"a<b:\"+str(a<b))\n",
    "print(\"a>=b:\"+str(a>=b))\n",
    "print(\"a<=b:\"+str(a<=b))"
   ]
  },
  {
   "cell_type": "markdown",
   "metadata": {},
   "source": [
    "# logical operators"
   ]
  },
  {
   "cell_type": "raw",
   "metadata": {},
   "source": [
    "logical And:&&   when both are true then returns true\n",
    "logical or:||    when one is true return true\n",
    "not : !          filp the result "
   ]
  },
  {
   "cell_type": "markdown",
   "metadata": {},
   "source": [
    "# bitwise operators "
   ]
  },
  {
   "cell_type": "raw",
   "metadata": {},
   "source": [
    "bit by bit operation will be performed for result\n",
    "&  --> bitwise and\n",
    "|  --> bitwise or\n",
    "^  -->bitwise xor\n",
    "!   -->bitwise not\n",
    "<<  -->left shift\n",
    ">> -->right shift"
   ]
  },
  {
   "cell_type": "code",
   "execution_count": null,
   "metadata": {},
   "outputs": [],
   "source": [
    "#progrm to find addition of two numbers with out +\n",
    "x=int(input())\n",
    "y=int(input())\n",
    "#sum=(a&b)<<1|(a^b)\n",
    "while(y!=0):\n",
    "    carry=x&y\n",
    "    x=x^y\n",
    "    y=carry<<1\n",
    "print(x)"
   ]
  },
  {
   "cell_type": "code",
   "execution_count": 47,
   "metadata": {},
   "outputs": [
    {
     "data": {
      "text/plain": [
       "6912"
      ]
     },
     "execution_count": 47,
     "metadata": {},
     "output_type": "execute_result"
    }
   ],
   "source": [
    " 1234+5678"
   ]
  }
 ],
 "metadata": {
  "kernelspec": {
   "display_name": "Python 3",
   "language": "python",
   "name": "python3"
  },
  "language_info": {
   "codemirror_mode": {
    "name": "ipython",
    "version": 3
   },
   "file_extension": ".py",
   "mimetype": "text/x-python",
   "name": "python",
   "nbconvert_exporter": "python",
   "pygments_lexer": "ipython3",
   "version": "3.7.3"
  }
 },
 "nbformat": 4,
 "nbformat_minor": 2
}
